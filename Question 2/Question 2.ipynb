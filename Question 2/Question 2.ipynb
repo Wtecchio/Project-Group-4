{
 "cells": [
  {
   "cell_type": "markdown",
   "id": "55c5c6e2",
   "metadata": {},
   "source": [
    "Question 2 \"Years v Movie rating quantity + Movie rating avg\" (bar graph) [Comparing movies relesased in the last 10 years] \n",
    "\"Kaggle + DB\""
   ]
  },
  {
   "cell_type": "code",
   "execution_count": 1,
   "id": "024e84e9",
   "metadata": {},
   "outputs": [],
   "source": [
    "import requests\n",
    "import json\n",
    "import pandas as pd\n",
    "import numpy as np\n",
    "import math\n",
    "\n",
    "from json import loads\n",
    "from pprint import pprint\n",
    "from api_keys import key as api"
   ]
  },
  {
   "cell_type": "code",
   "execution_count": 2,
   "id": "84561825",
   "metadata": {
    "scrolled": true
   },
   "outputs": [],
   "source": [
    "#baseData = pd.read_csv('../Data/cleaned_moviesDF1.csv', index_col=False)\n",
    "#len(baseData)"
   ]
  },
  {
   "cell_type": "code",
   "execution_count": 3,
   "id": "7a187374",
   "metadata": {},
   "outputs": [],
   "source": [
    "#baseData.head()"
   ]
  },
  {
   "cell_type": "code",
   "execution_count": 4,
   "id": "cb773762",
   "metadata": {},
   "outputs": [
    {
     "data": {
      "text/plain": [
       "'\\nbaseData[\\'Correct ID\\'] = \"\"\\nbaseData[\\'Vote Average\\'] = \"\"\\nbaseData[\\'Vote Count\\'] = \"\"\\nbaseData[\\'Genre\\'] = \"\"\\nbaseData[\\'Movie Budget\\'] = \"\"\\nbaseData[\\'Movie Revenue\\'] = \"\"\\nbaseData[\\'Original Language\\'] = \"\"\\n\\nbaseData.head()'"
      ]
     },
     "execution_count": 4,
     "metadata": {},
     "output_type": "execute_result"
    }
   ],
   "source": [
    "#baseData = baseData.drop(columns=['Unnamed: 0', 'Unnamed: 0.1'])\n",
    "'''\n",
    "baseData['Correct ID'] = \"\"\n",
    "baseData['Vote Average'] = \"\"\n",
    "baseData['Vote Count'] = \"\"\n",
    "baseData['Genre'] = \"\"\n",
    "baseData['Movie Budget'] = \"\"\n",
    "baseData['Movie Revenue'] = \"\"\n",
    "baseData['Original Language'] = \"\"\n",
    "\n",
    "baseData.head()'''"
   ]
  },
  {
   "cell_type": "code",
   "execution_count": 5,
   "id": "fe7289e7",
   "metadata": {},
   "outputs": [],
   "source": [
    "#test = 238\n",
    "#test"
   ]
  },
  {
   "cell_type": "code",
   "execution_count": 6,
   "id": "e9603795",
   "metadata": {},
   "outputs": [],
   "source": [
    "#endpointURL = f\"https://api.themoviedb.org/3/movie/{test}?api_key={api}\"\n",
    "#data = requests.get(endpointURL).json()\n",
    "#pprint(data)"
   ]
  },
  {
   "cell_type": "code",
   "execution_count": 7,
   "id": "d9f01777",
   "metadata": {},
   "outputs": [],
   "source": [
    "# voteAverage = data['vote_average']\n",
    "# voteCount = data['vote_count']\n",
    "\n",
    "#movieReleaseDate = data['genres'][0]['name']\n",
    "#movieReleaseDate"
   ]
  },
  {
   "cell_type": "code",
   "execution_count": 8,
   "id": "069b6dcb",
   "metadata": {},
   "outputs": [
    {
     "data": {
      "text/plain": [
       "'\\nmovie_title = \\'The Godfather\\'\\nyear = \\'1972\\'\\nqueryURL = f\"https://api.themoviedb.org/3/search/movie?api_key={api}&query={movie_title}&year={year}\"\\nqueryRequest = requests.get(queryURL).json()\\npprint(queryRequest)'"
      ]
     },
     "execution_count": 8,
     "metadata": {},
     "output_type": "execute_result"
    }
   ],
   "source": [
    "'''\n",
    "movie_title = 'The Godfather'\n",
    "year = '1972'\n",
    "queryURL = f\"https://api.themoviedb.org/3/search/movie?api_key={api}&query={movie_title}&year={year}\"\n",
    "queryRequest = requests.get(queryURL).json()\n",
    "pprint(queryRequest)'''"
   ]
  },
  {
   "cell_type": "code",
   "execution_count": 9,
   "id": "c67acc6d",
   "metadata": {},
   "outputs": [
    {
     "data": {
      "text/plain": [
       "'movie_title = \\'#cats_the_mewvie\\'\\nyear = \\'2020\\'\\nqueryURL = f\"https://api.themoviedb.org/3/search/movie?api_key={api}&query={movie_title}&year={year}\"\\nqueryRequest = requests.get(queryURL).json()\\n\\ntry:\\n    for results in queryRequest[\\'results\\']:\\n        print(results)\\nexcept:\\n    print(\"Not Found\")\\n    \\n    \\n#pprint(queryRequest)'"
      ]
     },
     "execution_count": 9,
     "metadata": {},
     "output_type": "execute_result"
    }
   ],
   "source": [
    "'''movie_title = '#cats_the_mewvie'\n",
    "year = '2020'\n",
    "queryURL = f\"https://api.themoviedb.org/3/search/movie?api_key={api}&query={movie_title}&year={year}\"\n",
    "queryRequest = requests.get(queryURL).json()\n",
    "\n",
    "try:\n",
    "    for results in queryRequest['results']:\n",
    "        print(results)\n",
    "except:\n",
    "    print(\"Not Found\")\n",
    "    \n",
    "    \n",
    "#pprint(queryRequest)'''"
   ]
  },
  {
   "cell_type": "code",
   "execution_count": 10,
   "id": "67fe144a",
   "metadata": {
    "scrolled": true
   },
   "outputs": [],
   "source": [
    "#for results in queryRequest:\n",
    "#    print(results)"
   ]
  },
  {
   "cell_type": "code",
   "execution_count": 11,
   "id": "eb23484c",
   "metadata": {},
   "outputs": [
    {
     "data": {
      "text/plain": [
       "'movie = \\'The Irishman\\'\\nfor results in queryRequest[\\'results\\']:\\n    print(results[\\'original_title\\'])\\n    if results[\\'original_title\\'] == movie:\\n        print(results[\\'id\\'])\\n    else:\\n        print(\"false\")'"
      ]
     },
     "execution_count": 11,
     "metadata": {},
     "output_type": "execute_result"
    }
   ],
   "source": [
    "'''movie = 'The Irishman'\n",
    "for results in queryRequest['results']:\n",
    "    print(results['original_title'])\n",
    "    if results['original_title'] == movie:\n",
    "        print(results['id'])\n",
    "    else:\n",
    "        print(\"false\")'''"
   ]
  },
  {
   "cell_type": "code",
   "execution_count": 12,
   "id": "52d187e0",
   "metadata": {},
   "outputs": [],
   "source": [
    "# For loop to make API call to pull in baseData['vote_average'] for each movie\n",
    "# Check if year matches what is pulled from API, drop if no match\n",
    "# If vote_average = 0, make null. Then drop null(?)\n",
    "# Export final data to csv\n",
    "# Clean baseData to group by year (buckets of 2-3 years): count of values by that year, average of ratings for that year\n",
    "# Idea: baseData['runtime'], average runtime per year, does runtime affect average rating? Do longer movies have better ratings or worse?\n"
   ]
  },
  {
   "cell_type": "code",
   "execution_count": 13,
   "id": "e8e1a9a1",
   "metadata": {
    "scrolled": true
   },
   "outputs": [
    {
     "data": {
      "text/plain": [
       "'voteAverge = []\\nvoteCount = []\\ncleanBaseData = baseData\\nmovieList = []\\nmoviesNotFound = []\\n\\nprint(\"-------------------------------------------\")\\nprint(\"Data Process Starting...\")\\nprint(\"-------------------------------------------\")\\n# Loop through each movie in Kaggle list to find data correct movie ID and movie data if ID is found\\nfor index, movie in cleanBaseData.iterrows():\\n    currentMovie = movie[\\'Title\\']\\n    currentMovieYear =  movie[\\'Year\\']\\n    currentMovieID = \\'\\'\\n    \\n    queryURL = f\"https://api.themoviedb.org/3/search/movie?api_key={api}&query={currentMovie}&year={currentMovieYear}\"\\n    queryRequest = requests.get(queryURL).json()\\n    \\n    # Try-except to catch KeyError from movies that return zero results\\n    print(f\"Searching for {index}: {currentMovie}\")\\n    try: \\n        # Loop through each result from query\\n        for results in queryRequest[\\'results\\']:\\n            # If to identify if the title matches Kaggle title\\n            if results[\\'title\\'] == currentMovie:\\n                currentMovieID = results[\\'id\\']\\n                print(f\"Movie {index}: {currentMovie} found in query\")\\n                break\\n            # Skip to next result in query if title does not match\\n            else:\\n                print(f\"Incorrect Movie From Query: {results[\\'title\\']} --------------\")\\n                continue\\n    except:\\n        # Fill in table with null values for the movie if query has no results\\n        print(f\"No results for {currentMovie}. Skipping...\")\\n        moviesNotFound.append(currentMovie)\\n        cleanBaseData.loc[index, \\'Correct ID\\'] = np.NaN\\n        cleanBaseData.loc[index, \\'Vote Average\\'] = np.NaN\\n        cleanBaseData.loc[index, \\'Vote Count\\'] = np.NaN\\n        cleanBaseData.loc[index, \\'Genre\\'] = np.NaN\\n        cleanBaseData.loc[index, \\'Movie Budget\\'] = np.NaN\\n        cleanBaseData.loc[index, \\'Movie Revenue\\'] = np.NaN\\n        cleanBaseData.loc[index, \\'Original Language\\'] = np.NaN\\n        continue\\n    \\n    # Checks if currentMovieID variable is empty. Empty variable would mean no movie ID was found\\n    if currentMovieID == \\'\\':\\n        print(f\"Movie ID for {currentMovie} was not found in query --------------\")\\n        moviesNotFound.append(currentMovie)\\n        continue\\n    # If currentMovieID contains ID, pull data from API\\n    else:\\n        try:\\n            print(f\"Pulling data for {currentMovie}: {currentMovieID}\")\\n            movieURL = f\"https://api.themoviedb.org/3/movie/{currentMovieID}?api_key={api}\"\\n            movieRequest = requests.get(movieURL).json()\\n            movieList.append(movieRequest[\\'title\\'])\\n            cleanBaseData.loc[index, \\'Correct ID\\'] = currentMovieID\\n            cleanBaseData.loc[index, \\'Vote Average\\'] = movieRequest[\\'vote_average\\']\\n            cleanBaseData.loc[index, \\'Vote Count\\'] = movieRequest[\\'vote_count\\']\\n            cleanBaseData.loc[index, \\'Genre\\'] = movieRequest[\\'genres\\'][0][\\'name\\']\\n            cleanBaseData.loc[index, \\'Movie Budget\\'] = movieRequest[\\'budget\\']\\n            cleanBaseData.loc[index, \\'Movie Revenue\\'] = movieRequest[\\'revenue\\']\\n            cleanBaseData.loc[index, \\'Original Language\\'] = movieRequest[\\'original_language\\']\\n            print(f\"Data for {currentMovie} is complete.\")\\n        except:\\n            print(\"Movie data could not be found --------------\")\\n            cleanBaseData.loc[index, \\'Correct ID\\'] = np.NaN\\n            cleanBaseData.loc[index, \\'Vote Average\\'] = np.NaN\\n            cleanBaseData.loc[index, \\'Vote Count\\'] = np.NaN\\n            cleanBaseData.loc[index, \\'Genre\\'] = np.NaN\\n            cleanBaseData.loc[index, \\'Movie Budget\\'] = np.NaN\\n            cleanBaseData.loc[index, \\'Movie Revenue\\'] = np.NaN\\n            cleanBaseData.loc[index, \\'Original Language\\'] = np.NaN\\n            \\n    print(\"-------------------------------------------\")\\n            \\nprint(\"-------------------------------------------\")\\nprint(\"Data Processing Complete\")\\nprint(\"-------------------------------------------\")'"
      ]
     },
     "execution_count": 13,
     "metadata": {},
     "output_type": "execute_result"
    }
   ],
   "source": [
    "'''voteAverge = []\n",
    "voteCount = []\n",
    "cleanBaseData = baseData\n",
    "movieList = []\n",
    "moviesNotFound = []\n",
    "\n",
    "print(\"-------------------------------------------\")\n",
    "print(\"Data Process Starting...\")\n",
    "print(\"-------------------------------------------\")\n",
    "# Loop through each movie in Kaggle list to find data correct movie ID and movie data if ID is found\n",
    "for index, movie in cleanBaseData.iterrows():\n",
    "    currentMovie = movie['Title']\n",
    "    currentMovieYear =  movie['Year']\n",
    "    currentMovieID = ''\n",
    "    \n",
    "    queryURL = f\"https://api.themoviedb.org/3/search/movie?api_key={api}&query={currentMovie}&year={currentMovieYear}\"\n",
    "    queryRequest = requests.get(queryURL).json()\n",
    "    \n",
    "    # Try-except to catch KeyError from movies that return zero results\n",
    "    print(f\"Searching for {index}: {currentMovie}\")\n",
    "    try: \n",
    "        # Loop through each result from query\n",
    "        for results in queryRequest['results']:\n",
    "            # If to identify if the title matches Kaggle title\n",
    "            if results['title'] == currentMovie:\n",
    "                currentMovieID = results['id']\n",
    "                print(f\"Movie {index}: {currentMovie} found in query\")\n",
    "                break\n",
    "            # Skip to next result in query if title does not match\n",
    "            else:\n",
    "                print(f\"Incorrect Movie From Query: {results['title']} --------------\")\n",
    "                continue\n",
    "    except:\n",
    "        # Fill in table with null values for the movie if query has no results\n",
    "        print(f\"No results for {currentMovie}. Skipping...\")\n",
    "        moviesNotFound.append(currentMovie)\n",
    "        cleanBaseData.loc[index, 'Correct ID'] = np.NaN\n",
    "        cleanBaseData.loc[index, 'Vote Average'] = np.NaN\n",
    "        cleanBaseData.loc[index, 'Vote Count'] = np.NaN\n",
    "        cleanBaseData.loc[index, 'Genre'] = np.NaN\n",
    "        cleanBaseData.loc[index, 'Movie Budget'] = np.NaN\n",
    "        cleanBaseData.loc[index, 'Movie Revenue'] = np.NaN\n",
    "        cleanBaseData.loc[index, 'Original Language'] = np.NaN\n",
    "        continue\n",
    "    \n",
    "    # Checks if currentMovieID variable is empty. Empty variable would mean no movie ID was found\n",
    "    if currentMovieID == '':\n",
    "        print(f\"Movie ID for {currentMovie} was not found in query --------------\")\n",
    "        moviesNotFound.append(currentMovie)\n",
    "        continue\n",
    "    # If currentMovieID contains ID, pull data from API\n",
    "    else:\n",
    "        try:\n",
    "            print(f\"Pulling data for {currentMovie}: {currentMovieID}\")\n",
    "            movieURL = f\"https://api.themoviedb.org/3/movie/{currentMovieID}?api_key={api}\"\n",
    "            movieRequest = requests.get(movieURL).json()\n",
    "            movieList.append(movieRequest['title'])\n",
    "            cleanBaseData.loc[index, 'Correct ID'] = currentMovieID\n",
    "            cleanBaseData.loc[index, 'Vote Average'] = movieRequest['vote_average']\n",
    "            cleanBaseData.loc[index, 'Vote Count'] = movieRequest['vote_count']\n",
    "            cleanBaseData.loc[index, 'Genre'] = movieRequest['genres'][0]['name']\n",
    "            cleanBaseData.loc[index, 'Movie Budget'] = movieRequest['budget']\n",
    "            cleanBaseData.loc[index, 'Movie Revenue'] = movieRequest['revenue']\n",
    "            cleanBaseData.loc[index, 'Original Language'] = movieRequest['original_language']\n",
    "            print(f\"Data for {currentMovie} is complete.\")\n",
    "        except:\n",
    "            print(\"Movie data could not be found --------------\")\n",
    "            cleanBaseData.loc[index, 'Correct ID'] = np.NaN\n",
    "            cleanBaseData.loc[index, 'Vote Average'] = np.NaN\n",
    "            cleanBaseData.loc[index, 'Vote Count'] = np.NaN\n",
    "            cleanBaseData.loc[index, 'Genre'] = np.NaN\n",
    "            cleanBaseData.loc[index, 'Movie Budget'] = np.NaN\n",
    "            cleanBaseData.loc[index, 'Movie Revenue'] = np.NaN\n",
    "            cleanBaseData.loc[index, 'Original Language'] = np.NaN\n",
    "            \n",
    "    print(\"-------------------------------------------\")\n",
    "            \n",
    "print(\"-------------------------------------------\")\n",
    "print(\"Data Processing Complete\")\n",
    "print(\"-------------------------------------------\")'''"
   ]
  },
  {
   "cell_type": "code",
   "execution_count": 14,
   "id": "9449e5e0",
   "metadata": {},
   "outputs": [
    {
     "data": {
      "text/plain": [
       "'output = \"test.csv\"\\ncleanBaseData.to_csv(output, encoding=\\'utf-8\\')'"
      ]
     },
     "execution_count": 14,
     "metadata": {},
     "output_type": "execute_result"
    }
   ],
   "source": [
    "'''output = \"test.csv\"\n",
    "cleanBaseData.to_csv(output, encoding='utf-8')'''"
   ]
  },
  {
   "cell_type": "code",
   "execution_count": 15,
   "id": "9a515519",
   "metadata": {},
   "outputs": [],
   "source": [
    "#cleanBaseData.head()"
   ]
  },
  {
   "cell_type": "code",
   "execution_count": 16,
   "id": "59c65e4d",
   "metadata": {},
   "outputs": [],
   "source": [
    "#moviesNotFound"
   ]
  },
  {
   "cell_type": "code",
   "execution_count": 36,
   "id": "284a1d7e",
   "metadata": {},
   "outputs": [
    {
     "data": {
      "text/html": [
       "<div>\n",
       "<style scoped>\n",
       "    .dataframe tbody tr th:only-of-type {\n",
       "        vertical-align: middle;\n",
       "    }\n",
       "\n",
       "    .dataframe tbody tr th {\n",
       "        vertical-align: top;\n",
       "    }\n",
       "\n",
       "    .dataframe thead th {\n",
       "        text-align: right;\n",
       "    }\n",
       "</style>\n",
       "<table border=\"1\" class=\"dataframe\">\n",
       "  <thead>\n",
       "    <tr style=\"text-align: right;\">\n",
       "      <th></th>\n",
       "      <th>ID</th>\n",
       "      <th>Title</th>\n",
       "      <th>Year</th>\n",
       "      <th>Age</th>\n",
       "      <th>Rotten Tomatoes</th>\n",
       "      <th>Netflix</th>\n",
       "      <th>Hulu</th>\n",
       "      <th>Prime Video</th>\n",
       "      <th>Disney+</th>\n",
       "      <th>Type</th>\n",
       "      <th>TMDB ID</th>\n",
       "      <th>Correct ID</th>\n",
       "      <th>Vote Average</th>\n",
       "      <th>Vote Count</th>\n",
       "      <th>Genre</th>\n",
       "      <th>Movie Budget</th>\n",
       "      <th>Movie Revenue</th>\n",
       "      <th>Original Language</th>\n",
       "    </tr>\n",
       "  </thead>\n",
       "  <tbody>\n",
       "    <tr>\n",
       "      <th>0</th>\n",
       "      <td>1</td>\n",
       "      <td>The Irishman</td>\n",
       "      <td>2019</td>\n",
       "      <td>18+</td>\n",
       "      <td>98/100</td>\n",
       "      <td>1</td>\n",
       "      <td>0</td>\n",
       "      <td>0</td>\n",
       "      <td>0</td>\n",
       "      <td>0</td>\n",
       "      <td>255839</td>\n",
       "      <td>398978.0</td>\n",
       "      <td>7.637</td>\n",
       "      <td>5489.0</td>\n",
       "      <td>Crime</td>\n",
       "      <td>159000000.0</td>\n",
       "      <td>968853.0</td>\n",
       "      <td>en</td>\n",
       "    </tr>\n",
       "    <tr>\n",
       "      <th>1</th>\n",
       "      <td>3</td>\n",
       "      <td>David Attenborough: A Life on Our Planet</td>\n",
       "      <td>2020</td>\n",
       "      <td>7+</td>\n",
       "      <td>95/100</td>\n",
       "      <td>1</td>\n",
       "      <td>0</td>\n",
       "      <td>0</td>\n",
       "      <td>0</td>\n",
       "      <td>0</td>\n",
       "      <td>664280</td>\n",
       "      <td>664280.0</td>\n",
       "      <td>8.545</td>\n",
       "      <td>231.0</td>\n",
       "      <td>Documentary</td>\n",
       "      <td>0.0</td>\n",
       "      <td>0.0</td>\n",
       "      <td>en</td>\n",
       "    </tr>\n",
       "    <tr>\n",
       "      <th>2</th>\n",
       "      <td>5</td>\n",
       "      <td>Roma</td>\n",
       "      <td>2018</td>\n",
       "      <td>18+</td>\n",
       "      <td>94/100</td>\n",
       "      <td>1</td>\n",
       "      <td>0</td>\n",
       "      <td>0</td>\n",
       "      <td>0</td>\n",
       "      <td>0</td>\n",
       "      <td>11035</td>\n",
       "      <td>426426.0</td>\n",
       "      <td>7.678</td>\n",
       "      <td>3431.0</td>\n",
       "      <td>Drama</td>\n",
       "      <td>15000000.0</td>\n",
       "      <td>1140769.0</td>\n",
       "      <td>es</td>\n",
       "    </tr>\n",
       "    <tr>\n",
       "      <th>3</th>\n",
       "      <td>6</td>\n",
       "      <td>To All the Boys I've Loved Before</td>\n",
       "      <td>2018</td>\n",
       "      <td>13+</td>\n",
       "      <td>94/100</td>\n",
       "      <td>1</td>\n",
       "      <td>0</td>\n",
       "      <td>0</td>\n",
       "      <td>0</td>\n",
       "      <td>0</td>\n",
       "      <td>466282</td>\n",
       "      <td>466282.0</td>\n",
       "      <td>7.690</td>\n",
       "      <td>7636.0</td>\n",
       "      <td>Comedy</td>\n",
       "      <td>0.0</td>\n",
       "      <td>0.0</td>\n",
       "      <td>en</td>\n",
       "    </tr>\n",
       "    <tr>\n",
       "      <th>4</th>\n",
       "      <td>7</td>\n",
       "      <td>The Social Dilemma</td>\n",
       "      <td>2020</td>\n",
       "      <td>13+</td>\n",
       "      <td>93/100</td>\n",
       "      <td>1</td>\n",
       "      <td>0</td>\n",
       "      <td>0</td>\n",
       "      <td>0</td>\n",
       "      <td>0</td>\n",
       "      <td>656690</td>\n",
       "      <td>656690.0</td>\n",
       "      <td>7.508</td>\n",
       "      <td>1249.0</td>\n",
       "      <td>Documentary</td>\n",
       "      <td>0.0</td>\n",
       "      <td>0.0</td>\n",
       "      <td>en</td>\n",
       "    </tr>\n",
       "  </tbody>\n",
       "</table>\n",
       "</div>"
      ],
      "text/plain": [
       "   ID                                     Title  Year  Age Rotten Tomatoes  \\\n",
       "0   1                              The Irishman  2019  18+          98/100   \n",
       "1   3  David Attenborough: A Life on Our Planet  2020   7+          95/100   \n",
       "2   5                                      Roma  2018  18+          94/100   \n",
       "3   6         To All the Boys I've Loved Before  2018  13+          94/100   \n",
       "4   7                        The Social Dilemma  2020  13+          93/100   \n",
       "\n",
       "   Netflix  Hulu  Prime Video  Disney+  Type  TMDB ID  Correct ID  \\\n",
       "0        1     0            0        0     0   255839    398978.0   \n",
       "1        1     0            0        0     0   664280    664280.0   \n",
       "2        1     0            0        0     0    11035    426426.0   \n",
       "3        1     0            0        0     0   466282    466282.0   \n",
       "4        1     0            0        0     0   656690    656690.0   \n",
       "\n",
       "   Vote Average  Vote Count        Genre  Movie Budget  Movie Revenue  \\\n",
       "0         7.637      5489.0        Crime   159000000.0       968853.0   \n",
       "1         8.545       231.0  Documentary           0.0            0.0   \n",
       "2         7.678      3431.0        Drama    15000000.0      1140769.0   \n",
       "3         7.690      7636.0       Comedy           0.0            0.0   \n",
       "4         7.508      1249.0  Documentary           0.0            0.0   \n",
       "\n",
       "  Original Language  \n",
       "0                en  \n",
       "1                en  \n",
       "2                es  \n",
       "3                en  \n",
       "4                en  "
      ]
     },
     "execution_count": 36,
     "metadata": {},
     "output_type": "execute_result"
    }
   ],
   "source": [
    "movieData = pd.read_csv('../Data/KaggleWithTMDBData.csv', index_col=False)\n",
    "movieData = movieData.drop(columns=['Unnamed: 0']) # 2694\n",
    "\n",
    "movieData.head()\n",
    "#len(movieData)"
   ]
  },
  {
   "cell_type": "code",
   "execution_count": 42,
   "id": "1fa5815f",
   "metadata": {
    "scrolled": true
   },
   "outputs": [
    {
     "data": {
      "text/plain": [
       "2649"
      ]
     },
     "execution_count": 42,
     "metadata": {},
     "output_type": "execute_result"
    }
   ],
   "source": [
    "for index, movie in movieData.iterrows():\n",
    "    if movie['Vote Average'] <= 0:\n",
    "        movieData.drop(axis='index', index=index, inplace=True)\n",
    "len(movieData)"
   ]
  },
  {
   "cell_type": "code",
   "execution_count": 44,
   "id": "670e2e44",
   "metadata": {},
   "outputs": [
    {
     "name": "stderr",
     "output_type": "stream",
     "text": [
      "C:\\Users\\aimee\\AppData\\Local\\Temp\\ipykernel_35800\\888062028.py:1: FutureWarning: ['Title', 'Age', 'Rotten Tomatoes', 'Genre', 'Original Language'] did not aggregate successfully. If any error is raised this will raise in a future version of pandas. Drop these columns/ops to avoid this warning.\n",
      "  voteStats = movieData.groupby(['Year']).agg(['count', 'mean'])[['Vote Average', 'Vote Count']]\n"
     ]
    },
    {
     "data": {
      "text/html": [
       "<div>\n",
       "<style scoped>\n",
       "    .dataframe tbody tr th:only-of-type {\n",
       "        vertical-align: middle;\n",
       "    }\n",
       "\n",
       "    .dataframe tbody tr th {\n",
       "        vertical-align: top;\n",
       "    }\n",
       "\n",
       "    .dataframe thead tr th {\n",
       "        text-align: left;\n",
       "    }\n",
       "\n",
       "    .dataframe thead tr:last-of-type th {\n",
       "        text-align: right;\n",
       "    }\n",
       "</style>\n",
       "<table border=\"1\" class=\"dataframe\">\n",
       "  <thead>\n",
       "    <tr>\n",
       "      <th></th>\n",
       "      <th colspan=\"2\" halign=\"left\">Vote Average</th>\n",
       "      <th colspan=\"2\" halign=\"left\">Vote Count</th>\n",
       "    </tr>\n",
       "    <tr>\n",
       "      <th></th>\n",
       "      <th>count</th>\n",
       "      <th>mean</th>\n",
       "      <th>count</th>\n",
       "      <th>mean</th>\n",
       "    </tr>\n",
       "    <tr>\n",
       "      <th>Year</th>\n",
       "      <th></th>\n",
       "      <th></th>\n",
       "      <th></th>\n",
       "      <th></th>\n",
       "    </tr>\n",
       "  </thead>\n",
       "  <tbody>\n",
       "    <tr>\n",
       "      <th>2012</th>\n",
       "      <td>173</td>\n",
       "      <td>6.093642</td>\n",
       "      <td>173</td>\n",
       "      <td>1183.699422</td>\n",
       "    </tr>\n",
       "    <tr>\n",
       "      <th>2013</th>\n",
       "      <td>161</td>\n",
       "      <td>6.165255</td>\n",
       "      <td>161</td>\n",
       "      <td>1286.161491</td>\n",
       "    </tr>\n",
       "    <tr>\n",
       "      <th>2014</th>\n",
       "      <td>188</td>\n",
       "      <td>6.178463</td>\n",
       "      <td>188</td>\n",
       "      <td>1017.601064</td>\n",
       "    </tr>\n",
       "    <tr>\n",
       "      <th>2015</th>\n",
       "      <td>185</td>\n",
       "      <td>6.196865</td>\n",
       "      <td>185</td>\n",
       "      <td>903.740541</td>\n",
       "    </tr>\n",
       "    <tr>\n",
       "      <th>2016</th>\n",
       "      <td>269</td>\n",
       "      <td>6.237145</td>\n",
       "      <td>269</td>\n",
       "      <td>1085.249071</td>\n",
       "    </tr>\n",
       "    <tr>\n",
       "      <th>2017</th>\n",
       "      <td>345</td>\n",
       "      <td>6.228432</td>\n",
       "      <td>345</td>\n",
       "      <td>743.463768</td>\n",
       "    </tr>\n",
       "    <tr>\n",
       "      <th>2018</th>\n",
       "      <td>370</td>\n",
       "      <td>6.342703</td>\n",
       "      <td>370</td>\n",
       "      <td>723.972973</td>\n",
       "    </tr>\n",
       "    <tr>\n",
       "      <th>2019</th>\n",
       "      <td>393</td>\n",
       "      <td>6.415163</td>\n",
       "      <td>393</td>\n",
       "      <td>706.541985</td>\n",
       "    </tr>\n",
       "    <tr>\n",
       "      <th>2020</th>\n",
       "      <td>367</td>\n",
       "      <td>6.545406</td>\n",
       "      <td>367</td>\n",
       "      <td>427.057221</td>\n",
       "    </tr>\n",
       "    <tr>\n",
       "      <th>2021</th>\n",
       "      <td>128</td>\n",
       "      <td>6.771914</td>\n",
       "      <td>128</td>\n",
       "      <td>512.734375</td>\n",
       "    </tr>\n",
       "  </tbody>\n",
       "</table>\n",
       "</div>"
      ],
      "text/plain": [
       "     Vote Average           Vote Count             \n",
       "            count      mean      count         mean\n",
       "Year                                               \n",
       "2012          173  6.093642        173  1183.699422\n",
       "2013          161  6.165255        161  1286.161491\n",
       "2014          188  6.178463        188  1017.601064\n",
       "2015          185  6.196865        185   903.740541\n",
       "2016          269  6.237145        269  1085.249071\n",
       "2017          345  6.228432        345   743.463768\n",
       "2018          370  6.342703        370   723.972973\n",
       "2019          393  6.415163        393   706.541985\n",
       "2020          367  6.545406        367   427.057221\n",
       "2021          128  6.771914        128   512.734375"
      ]
     },
     "execution_count": 44,
     "metadata": {},
     "output_type": "execute_result"
    }
   ],
   "source": [
    "voteStats = movieData.groupby(['Year']).agg(['count', 'mean'])[['Vote Average', 'Vote Count']]\n",
    "voteStats"
   ]
  },
  {
   "cell_type": "code",
   "execution_count": 50,
   "id": "7acda79f",
   "metadata": {},
   "outputs": [
    {
     "data": {
      "text/plain": [
       "173"
      ]
     },
     "execution_count": 50,
     "metadata": {},
     "output_type": "execute_result"
    }
   ],
   "source": [
    "# voteStats['Vote Average'] # Shows count and average of Vote Average\n",
    "# voteStats['Vote Average']['count'] # Shows only count of Vote Average\n",
    "# voteStats['Vote Average']['count'][2012] # Shows count of Vote Average for year 2012"
   ]
  }
 ],
 "metadata": {
  "kernelspec": {
   "display_name": "Python 3 (ipykernel)",
   "language": "python",
   "name": "python3"
  },
  "language_info": {
   "codemirror_mode": {
    "name": "ipython",
    "version": 3
   },
   "file_extension": ".py",
   "mimetype": "text/x-python",
   "name": "python",
   "nbconvert_exporter": "python",
   "pygments_lexer": "ipython3",
   "version": "3.9.12"
  }
 },
 "nbformat": 4,
 "nbformat_minor": 5
}
