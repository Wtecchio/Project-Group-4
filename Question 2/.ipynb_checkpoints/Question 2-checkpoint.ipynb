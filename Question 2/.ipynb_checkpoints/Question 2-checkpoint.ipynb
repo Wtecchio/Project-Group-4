{
 "cells": [
  {
   "cell_type": "markdown",
   "id": "55c5c6e2",
   "metadata": {},
   "source": [
    "Question 2 \"Years v Movie rating quantity + Movie rating avg\" (bar graph) [Comparing movies relesased in the last 10 years] \n",
    "\"Kaggle + DB\""
   ]
  },
  {
   "cell_type": "code",
   "execution_count": 11,
   "id": "024e84e9",
   "metadata": {},
   "outputs": [],
   "source": [
    "import requests\n",
    "import json\n",
    "import pandas as pd\n",
    "import numpy as np\n",
    "import math\n",
    "\n",
    "from json import loads\n",
    "from pprint import pprint\n",
    "from api_keys import key as api"
   ]
  },
  {
   "cell_type": "code",
   "execution_count": 5,
   "id": "84561825",
   "metadata": {
    "scrolled": true
   },
   "outputs": [
    {
     "data": {
      "text/plain": [
       "2694"
      ]
     },
     "execution_count": 5,
     "metadata": {},
     "output_type": "execute_result"
    }
   ],
   "source": [
    "baseData = pd.read_csv('../Data/cleaned_moviesDF1.csv', index_col=False)\n",
    "len(baseData)"
   ]
  },
  {
   "cell_type": "code",
   "execution_count": 6,
   "id": "cb773762",
   "metadata": {},
   "outputs": [
    {
     "data": {
      "text/html": [
       "<div>\n",
       "<style scoped>\n",
       "    .dataframe tbody tr th:only-of-type {\n",
       "        vertical-align: middle;\n",
       "    }\n",
       "\n",
       "    .dataframe tbody tr th {\n",
       "        vertical-align: top;\n",
       "    }\n",
       "\n",
       "    .dataframe thead th {\n",
       "        text-align: right;\n",
       "    }\n",
       "</style>\n",
       "<table border=\"1\" class=\"dataframe\">\n",
       "  <thead>\n",
       "    <tr style=\"text-align: right;\">\n",
       "      <th></th>\n",
       "      <th>ID</th>\n",
       "      <th>Title</th>\n",
       "      <th>Year</th>\n",
       "      <th>Age</th>\n",
       "      <th>Rotten Tomatoes</th>\n",
       "      <th>Netflix</th>\n",
       "      <th>Hulu</th>\n",
       "      <th>Prime Video</th>\n",
       "      <th>Disney+</th>\n",
       "      <th>Type</th>\n",
       "      <th>TMDB ID</th>\n",
       "    </tr>\n",
       "  </thead>\n",
       "  <tbody>\n",
       "    <tr>\n",
       "      <th>0</th>\n",
       "      <td>1</td>\n",
       "      <td>The Irishman</td>\n",
       "      <td>2019</td>\n",
       "      <td>18+</td>\n",
       "      <td>98/100</td>\n",
       "      <td>1</td>\n",
       "      <td>0</td>\n",
       "      <td>0</td>\n",
       "      <td>0</td>\n",
       "      <td>0</td>\n",
       "      <td>255839</td>\n",
       "    </tr>\n",
       "    <tr>\n",
       "      <th>1</th>\n",
       "      <td>3</td>\n",
       "      <td>David Attenborough: A Life on Our Planet</td>\n",
       "      <td>2020</td>\n",
       "      <td>7+</td>\n",
       "      <td>95/100</td>\n",
       "      <td>1</td>\n",
       "      <td>0</td>\n",
       "      <td>0</td>\n",
       "      <td>0</td>\n",
       "      <td>0</td>\n",
       "      <td>664280</td>\n",
       "    </tr>\n",
       "    <tr>\n",
       "      <th>2</th>\n",
       "      <td>5</td>\n",
       "      <td>Roma</td>\n",
       "      <td>2018</td>\n",
       "      <td>18+</td>\n",
       "      <td>94/100</td>\n",
       "      <td>1</td>\n",
       "      <td>0</td>\n",
       "      <td>0</td>\n",
       "      <td>0</td>\n",
       "      <td>0</td>\n",
       "      <td>11035</td>\n",
       "    </tr>\n",
       "    <tr>\n",
       "      <th>3</th>\n",
       "      <td>6</td>\n",
       "      <td>To All the Boys I've Loved Before</td>\n",
       "      <td>2018</td>\n",
       "      <td>13+</td>\n",
       "      <td>94/100</td>\n",
       "      <td>1</td>\n",
       "      <td>0</td>\n",
       "      <td>0</td>\n",
       "      <td>0</td>\n",
       "      <td>0</td>\n",
       "      <td>466282</td>\n",
       "    </tr>\n",
       "    <tr>\n",
       "      <th>4</th>\n",
       "      <td>7</td>\n",
       "      <td>The Social Dilemma</td>\n",
       "      <td>2020</td>\n",
       "      <td>13+</td>\n",
       "      <td>93/100</td>\n",
       "      <td>1</td>\n",
       "      <td>0</td>\n",
       "      <td>0</td>\n",
       "      <td>0</td>\n",
       "      <td>0</td>\n",
       "      <td>656690</td>\n",
       "    </tr>\n",
       "  </tbody>\n",
       "</table>\n",
       "</div>"
      ],
      "text/plain": [
       "   ID                                     Title  Year  Age Rotten Tomatoes  \\\n",
       "0   1                              The Irishman  2019  18+          98/100   \n",
       "1   3  David Attenborough: A Life on Our Planet  2020   7+          95/100   \n",
       "2   5                                      Roma  2018  18+          94/100   \n",
       "3   6         To All the Boys I've Loved Before  2018  13+          94/100   \n",
       "4   7                        The Social Dilemma  2020  13+          93/100   \n",
       "\n",
       "   Netflix  Hulu  Prime Video  Disney+  Type  TMDB ID  \n",
       "0        1     0            0        0     0   255839  \n",
       "1        1     0            0        0     0   664280  \n",
       "2        1     0            0        0     0    11035  \n",
       "3        1     0            0        0     0   466282  \n",
       "4        1     0            0        0     0   656690  "
      ]
     },
     "execution_count": 6,
     "metadata": {},
     "output_type": "execute_result"
    }
   ],
   "source": [
    "baseData = baseData.drop(columns=['Unnamed: 0', 'Unnamed: 0.1'])\n",
    "\n",
    "baseData.head()"
   ]
  },
  {
   "cell_type": "code",
   "execution_count": 9,
   "id": "fe7289e7",
   "metadata": {},
   "outputs": [
    {
     "data": {
      "text/plain": [
       "255839"
      ]
     },
     "execution_count": 9,
     "metadata": {},
     "output_type": "execute_result"
    }
   ],
   "source": [
    "test = baseData['TMDB ID'][0]\n",
    "test"
   ]
  },
  {
   "cell_type": "code",
   "execution_count": 12,
   "id": "e9603795",
   "metadata": {},
   "outputs": [
    {
     "name": "stdout",
     "output_type": "stream",
     "text": [
      "{'adult': False,\n",
      " 'backdrop_path': None,\n",
      " 'belongs_to_collection': None,\n",
      " 'budget': 0,\n",
      " 'genres': [],\n",
      " 'homepage': '',\n",
      " 'id': 255839,\n",
      " 'imdb_id': 'tt0077749',\n",
      " 'original_language': 'en',\n",
      " 'original_title': 'The Irishman',\n",
      " 'overview': 'Paddy Doolan is a man who refuses to accept change. In a new '\n",
      "             'century where the motor car is changing the way things are done, '\n",
      "             'the stubborn Irishman, the last of the draught-horse teamsters, '\n",
      "             'continues to haul timber the old way.',\n",
      " 'popularity': 0.6,\n",
      " 'poster_path': '/krkIjrPtQRodPIKxKLtWkY3DW9z.jpg',\n",
      " 'production_companies': [],\n",
      " 'production_countries': [{'iso_3166_1': 'AU', 'name': 'Australia'}],\n",
      " 'release_date': '1978-02-28',\n",
      " 'revenue': 0,\n",
      " 'runtime': 108,\n",
      " 'spoken_languages': [{'english_name': 'English',\n",
      "                       'iso_639_1': 'en',\n",
      "                       'name': 'English'}],\n",
      " 'status': 'Released',\n",
      " 'tagline': '',\n",
      " 'title': 'The Irishman',\n",
      " 'video': False,\n",
      " 'vote_average': 0.0,\n",
      " 'vote_count': 0}\n"
     ]
    }
   ],
   "source": [
    "endpointURL = f\"https://api.themoviedb.org/3/movie/{test}?api_key={api}\"\n",
    "data = requests.get(endpointURL).json()\n",
    "pprint(data)"
   ]
  },
  {
   "cell_type": "code",
   "execution_count": null,
   "id": "52d187e0",
   "metadata": {},
   "outputs": [],
   "source": [
    "# For loop to make API call to pull in baseData['vote_average'] for each movie\n",
    "# Check if year matches what is pulled from API, drop if no match\n",
    "# If vote_average = 0, make null. Then drop null(?)\n",
    "# Export final data to csv\n",
    "# Clean baseData to group by year (buckets of 2-3 years): count of values by that year, average of ratings for that year\n",
    "# Idea: baseData['runtime'], average runtime per year, does runtime affect average rating? Do longer movies have better ratings or worse?\n"
   ]
  }
 ],
 "metadata": {
  "kernelspec": {
   "display_name": "Python 3 (ipykernel)",
   "language": "python",
   "name": "python3"
  },
  "language_info": {
   "codemirror_mode": {
    "name": "ipython",
    "version": 3
   },
   "file_extension": ".py",
   "mimetype": "text/x-python",
   "name": "python",
   "nbconvert_exporter": "python",
   "pygments_lexer": "ipython3",
   "version": "3.9.12"
  }
 },
 "nbformat": 4,
 "nbformat_minor": 5
}
